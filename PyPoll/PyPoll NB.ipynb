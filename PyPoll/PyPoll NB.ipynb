{
 "cells": [
  {
   "cell_type": "code",
   "execution_count": 26,
   "metadata": {},
   "outputs": [],
   "source": [
    "# Import libraries\n",
    "import os, csv"
   ]
  },
  {
   "cell_type": "code",
   "execution_count": 27,
   "metadata": {},
   "outputs": [
    {
     "name": "stdout",
     "output_type": "stream",
     "text": [
      "{'Khan': 2218231, 'Correy': 704200, 'Li': 492940, \"O'Tooley\": 105630}\n"
     ]
    }
   ],
   "source": [
    "#read the resource file\n",
    "#os.chdir(os.path.dirname(_file_))     #set path to current directory for code\n",
    "pollcsv = os.path.join(\".\", \"Resources\", \"election_data.csv\")    #set path\n",
    "\n",
    "#define variables for the code\n",
    "votes_total = 0  \n",
    "cvotes = 0\n",
    "candidates = {}\n",
    "candidatepercent = {}\n",
    "winner = \"\"\n",
    "\n",
    "with open(pollcsv, 'r') as csvfile:\n",
    "    csvreader = csv.reader(csvfile, delimiter=',')\n",
    "    csv_header = next(csvreader)   #skip header\n",
    "\n",
    "   # Read each row of data and add votes for each candidate in the dictionary\n",
    "    for row in csvreader:\n",
    "        if row[2] in candidates:\n",
    "            candidates[row[2]] += 1\n",
    "        else:\n",
    "            candidates[row[2]] = 1\n",
    "        #total votes cast\n",
    "        votes_total = votes_total + 1     \n",
    "\n",
    "#print(candidates)"
   ]
  },
  {
   "cell_type": "code",
   "execution_count": 35,
   "metadata": {},
   "outputs": [],
   "source": [
    "winner = max(candidates, key=candidates.get)  #getting the maximum value in the dictionary\n",
    "\n",
    "#print(winner)\n",
    "candidatepercent = {}\n",
    "# add vote totals and vote %ages to a new dictionary with same key\n",
    "for key in candidates.keys():\n",
    "    votes = []\n",
    "    votes.append(candidates[key]/votes_total * 100)\n",
    "    votes.append(candidates[key])\n",
    "    candidatepercent[key] = votes\n",
    "    #print(candidatepercent)\n"
   ]
  },
  {
   "cell_type": "code",
   "execution_count": 36,
   "metadata": {},
   "outputs": [
    {
     "name": "stdout",
     "output_type": "stream",
     "text": [
      "Election Results\n",
      "---------------------------------------------------------------------\n",
      "Total Votes: 3521001\n",
      "---------------------------------------------------------------------\n",
      "Khan: 63.0% (2218231)\n",
      "Correy: 20.0% (704200)\n",
      "Li: 14.0% (492940)\n",
      "O'Tooley: 3.0% (105630)\n",
      "---------------------------------------------------------------------\n",
      "Winner: Khan\n",
      "---------------------------------------------------------------------\n"
     ]
    }
   ],
   "source": [
    "#print election results\n",
    "print(\"Election Results\")\n",
    "print(\"-\"*69)\n",
    "print(f\"Total Votes: {votes_total}\")\n",
    "print(\"-\"*69)\n",
    "for key in candidatepercent:\n",
    "    print(f\"{key}: {round(candidatepercent[key][0],3)}% ({candidatepercent[key][1]})\")\n",
    "print(\"-\"*69)\n",
    "print(f\"Winner: {winner}\")\n",
    "print(\"-\"*69)"
   ]
  },
  {
   "cell_type": "code",
   "execution_count": 40,
   "metadata": {},
   "outputs": [],
   "source": [
    "#to write the output file\n",
    "output = os.path.join(\".\",\"Analysis\", \"summary.txt\")\n",
    "\n",
    "# use \"\\n\" to create a new line\n",
    "with  open(output, 'w') as output:\n",
    "    output.write(\"Election Results\\n\")\n",
    "    output.write(\"-\"*69 + \"\\n\")\n",
    "    output.write(f\"Total Votes: {votes_total}\\n\")\n",
    "    output.write(\"-\"*69 + \"\\n\")\n",
    "    for key in candidatepercent:\n",
    "        output.write(f\"{key}: {round(candidatepercent[key][0],3)}% ({candidatepercent[key][1]})\\n\")\n",
    "    output.write(\"-\"*69 + \"\\n\")\n",
    "    output.write(f\"Winner: {winner}\\n\")\n",
    "    output.write(\"-\"*69)"
   ]
  }
 ],
 "metadata": {
  "kernelspec": {
   "display_name": "Python 3",
   "language": "python",
   "name": "python3"
  },
  "language_info": {
   "codemirror_mode": {
    "name": "ipython",
    "version": 3
   },
   "file_extension": ".py",
   "mimetype": "text/x-python",
   "name": "python",
   "nbconvert_exporter": "python",
   "pygments_lexer": "ipython3",
   "version": "3.8.5"
  }
 },
 "nbformat": 4,
 "nbformat_minor": 4
}
